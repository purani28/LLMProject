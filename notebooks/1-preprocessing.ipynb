{
 "cells": [
  {
   "cell_type": "code",
   "execution_count": 4,
   "metadata": {},
   "outputs": [
    {
     "name": "stdout",
     "output_type": "stream",
     "text": [
      "Review    0\n",
      "Liked     0\n",
      "dtype: int64\n",
      "Data has been cleaned and saved to 'cleaned_reviews.csv'\n"
     ]
    }
   ],
   "source": [
    "import pandas as pd\n",
    "import re\n",
    "\n",
    "# Load dataset\n",
    "df = pd.read_csv('Restaurant_Reviews.csv')\n",
    "\n",
    "# Check for missing values and drop rows with missing values\n",
    "print(df.isnull().sum())  \n",
    "df = df.dropna(subset=['Review', 'Liked'])\n",
    "\n",
    "# Clean text data by removing non-alphabetic characters\n",
    "def clean_text(text):\n",
    "    return re.sub(r'[^a-zA-Z\\s]', '', text)\n",
    "\n",
    "df['CleanedText'] = df['Review'].apply(clean_text)\n",
    "\n",
    "# Save cleaned DataFrame to a CSV file \n",
    "df.to_csv('cleaned_reviews.csv', index=False)\n",
    "print(\"Data has been cleaned and saved to 'cleaned_reviews.csv'\")\n"
   ]
  }
 ],
 "metadata": {
  "kernelspec": {
   "display_name": "base",
   "language": "python",
   "name": "python3"
  },
  "language_info": {
   "codemirror_mode": {
    "name": "ipython",
    "version": 3
   },
   "file_extension": ".py",
   "mimetype": "text/x-python",
   "name": "python",
   "nbconvert_exporter": "python",
   "pygments_lexer": "ipython3",
   "version": "3.12.3"
  },
  "orig_nbformat": 4
 },
 "nbformat": 4,
 "nbformat_minor": 2
}
