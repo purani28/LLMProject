{
 "cells": [
  {
   "cell_type": "code",
   "execution_count": 7,
   "metadata": {},
   "outputs": [
    {
     "name": "stderr",
     "output_type": "stream",
     "text": [
      "Device set to use cpu\n"
     ]
    },
    {
     "name": "stdout",
     "output_type": "stream",
     "text": [
      "Text: Wow Loved this place\n",
      "Prediction: {'label': 'POSITIVE', 'score': 0.9998728036880493}\n",
      "\n",
      "Text: Crust is not good\n",
      "Prediction: {'label': 'NEGATIVE', 'score': 0.9997629523277283}\n",
      "\n",
      "Text: Not tasty and the texture was just nasty\n",
      "Prediction: {'label': 'NEGATIVE', 'score': 0.9996601343154907}\n",
      "\n",
      "Text: Stopped by during the late May bank holiday off Rick Steve recommendation and loved it\n",
      "Prediction: {'label': 'POSITIVE', 'score': 0.9995071887969971}\n",
      "\n",
      "Text: The selection on the menu was great and so were the prices\n",
      "Prediction: {'label': 'POSITIVE', 'score': 0.9995456337928772}\n",
      "\n",
      "Text: Now I am getting angry and I want my damn pho\n",
      "Prediction: {'label': 'NEGATIVE', 'score': 0.9933871626853943}\n",
      "\n",
      "Text: Honeslty it didnt taste THAT fresh\n",
      "Prediction: {'label': 'NEGATIVE', 'score': 0.9942670464515686}\n",
      "\n",
      "Text: The potatoes were like rubber and you could tell they had been made up ahead of time being kept under a warmer\n",
      "Prediction: {'label': 'NEGATIVE', 'score': 0.8497899770736694}\n",
      "\n",
      "Text: The fries were great too\n",
      "Prediction: {'label': 'POSITIVE', 'score': 0.9996926784515381}\n",
      "\n",
      "Text: A great touch\n",
      "Prediction: {'label': 'POSITIVE', 'score': 0.9998812675476074}\n",
      "\n",
      "Classification Report for DistilBERT:\n",
      "               precision    recall  f1-score   support\n",
      "\n",
      "           0       0.90      0.90      0.90       500\n",
      "           1       0.90      0.90      0.90       500\n",
      "\n",
      "    accuracy                           0.90      1000\n",
      "   macro avg       0.90      0.90      0.90      1000\n",
      "weighted avg       0.90      0.90      0.90      1000\n",
      "\n",
      "Confusion Matrix:\n",
      " [[452  48]\n",
      " [ 50 450]]\n"
     ]
    }
   ],
   "source": [
    "import pandas as pd\n",
    "from sklearn.metrics import classification_report, confusion_matrix\n",
    "from transformers import pipeline\n",
    "\n",
    "df = pd.read_csv('cleaned_reviews.csv')\n",
    "\n",
    "# Hugging Face's pre-trained DistilBERT model for sentiment classification\n",
    "pipe = pipeline('text-classification', model='distilbert-base-uncased-finetuned-sst-2-english')\n",
    "\n",
    "# Tokenize and truncate text data (Model input size - 512 tokens max)\n",
    "data = df['CleanedText'].tolist()\n",
    "truncated_data = [text[:512] for text in data]  \n",
    "\n",
    "# Predictions from pre-trained model\n",
    "predictions = pipe(truncated_data)\n",
    "\n",
    "# Display predictions for the first 10 reviews\n",
    "for text, prediction in zip(truncated_data[:10], predictions[:10]):\n",
    "    print(f\"Text: {text}\\nPrediction: {prediction}\\n\")\n",
    "\n",
    "# Convert predictions into numeric labels (1 for positive, 0 for negative)\n",
    "labels_pred_classifier1 = [1 if prediction['label'].lower()[:3] == 'pos' else 0 for prediction in predictions]\n",
    "\n",
    "# 1 for positive and 0 for negative\n",
    "labels_true = [1 if sentiment == 'positive' else 0 for sentiment in df['Sentiment']]\n",
    "\n",
    "# Classification report\n",
    "report_classifier1 = classification_report(labels_true, labels_pred_classifier1)\n",
    "print(\"Classification Report for DistilBERT:\\n\", report_classifier1)\n",
    "\n",
    "# Confusion Matrix\n",
    "cm = confusion_matrix(labels_true, labels_pred_classifier1)\n",
    "print(\"Confusion Matrix:\\n\", cm)\n"
   ]
  }
 ],
 "metadata": {
  "kernelspec": {
   "display_name": "base",
   "language": "python",
   "name": "python3"
  },
  "language_info": {
   "codemirror_mode": {
    "name": "ipython",
    "version": 3
   },
   "file_extension": ".py",
   "mimetype": "text/x-python",
   "name": "python",
   "nbconvert_exporter": "python",
   "pygments_lexer": "ipython3",
   "version": "3.12.3"
  },
  "orig_nbformat": 4
 },
 "nbformat": 4,
 "nbformat_minor": 2
}
