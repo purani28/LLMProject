{
 "cells": [
  {
   "cell_type": "code",
   "execution_count": 6,
   "metadata": {},
   "outputs": [
    {
     "name": "stdout",
     "output_type": "stream",
     "text": [
      "                                              Review  Liked  \\\n",
      "0                           Wow... Loved this place.      1   \n",
      "1                                 Crust is not good.      0   \n",
      "2          Not tasty and the texture was just nasty.      0   \n",
      "3  Stopped by during the late May bank holiday of...      1   \n",
      "4  The selection on the menu was great and so wer...      1   \n",
      "\n",
      "                                         CleanedText  \\\n",
      "0                               Wow Loved this place   \n",
      "1                                  Crust is not good   \n",
      "2           Not tasty and the texture was just nasty   \n",
      "3  Stopped by during the late May bank holiday of...   \n",
      "4  The selection on the menu was great and so wer...   \n",
      "\n",
      "                                       ProcessedText Sentiment  \n",
      "0                                    wow loved place  positive  \n",
      "1                                         crust good  negative  \n",
      "2                                tasty texture nasty  negative  \n",
      "3  stopped late may bank holiday rick steve recom...  positive  \n",
      "4                         selection menu great price  positive  \n"
     ]
    }
   ],
   "source": [
    "import pandas as pd\n",
    "import nltk\n",
    "from sklearn.feature_extraction.text import TfidfVectorizer\n",
    "from sklearn.preprocessing import LabelEncoder\n",
    "\n",
    "# Load the cleaned data from 'cleaned_reviews.csv' \n",
    "df = pd.read_csv('cleaned_reviews.csv')\n",
    "\n",
    "# Initialize stopwords and lemmatizer\n",
    "stop_words = set(nltk.corpus.stopwords.words('english'))\n",
    "lemmatizer = nltk.WordNetLemmatizer()\n",
    "\n",
    "# Function to preprocess the text\n",
    "def preprocess_text(text, stop_words, lemmatizer):\n",
    "    words = nltk.word_tokenize(text.lower())  \n",
    "    words = [word for word in words if word not in stop_words]  \n",
    "    words = [lemmatizer.lemmatize(word) for word in words]  \n",
    "    return ' '.join(words)\n",
    "\n",
    "# Apply preprocessing to the 'CleanedText' column \n",
    "df['ProcessedText'] = df['CleanedText'].apply(lambda text: preprocess_text(text, stop_words, lemmatizer))\n",
    "\n",
    "# Categorize sentiment based on the 'Liked' score (1 = positive, 0 = negative)\n",
    "def categorize_sentiment(score):\n",
    "    if score == 1:\n",
    "        return 'positive'\n",
    "    else:\n",
    "        return 'negative'\n",
    "\n",
    "# Create the 'Sentiment' column based on the 'Liked' column\n",
    "df['Sentiment'] = df['Liked'].apply(categorize_sentiment)\n",
    "\n",
    "# TF-IDF Vectorizer to convert text data into numerical features\n",
    "tfidf_vectorizer = TfidfVectorizer(max_features=5000)\n",
    "X_tfidf = tfidf_vectorizer.fit_transform(df['ProcessedText'])\n",
    "\n",
    "# Encode sentiment labels as numeric values\n",
    "label_encoder = LabelEncoder()\n",
    "y = label_encoder.fit_transform(df['Sentiment'])\n",
    "\n",
    "# Save the DataFrame with the new 'Sentiment' column back to 'cleaned_reviews.csv'\n",
    "df.to_csv('cleaned_reviews.csv', index=False)\n",
    "\n",
    "print(df.head())  \n"
   ]
  }
 ],
 "metadata": {
  "kernelspec": {
   "display_name": "base",
   "language": "python",
   "name": "python3"
  },
  "language_info": {
   "codemirror_mode": {
    "name": "ipython",
    "version": 3
   },
   "file_extension": ".py",
   "mimetype": "text/x-python",
   "name": "python",
   "nbconvert_exporter": "python",
   "pygments_lexer": "ipython3",
   "version": "3.12.3"
  },
  "orig_nbformat": 4
 },
 "nbformat": 4,
 "nbformat_minor": 2
}
